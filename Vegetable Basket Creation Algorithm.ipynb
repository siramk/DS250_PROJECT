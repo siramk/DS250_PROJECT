{
 "cells": [
  {
   "cell_type": "code",
   "execution_count": 20,
   "metadata": {},
   "outputs": [],
   "source": [
    "vegetables = ['Bottle-gourd', 'Cabbage', 'Carrot', 'Cauliflower', 'Onion', 'Tomato', 'Potato']\n",
    "price = [24.25, 10.50, 12.50, 30.00, 16.25, 24.75, 25.00]        # Prices on 31/8/2020\n",
    "n = len(price)"
   ]
  },
  {
   "cell_type": "code",
   "execution_count": 21,
   "metadata": {},
   "outputs": [],
   "source": [
    "requirement = [80, 18, 24, 60]\n",
    "m = len(requirement)"
   ]
  },
  {
   "cell_type": "code",
   "execution_count": 22,
   "metadata": {},
   "outputs": [],
   "source": [
    "nutrient_qty = [[10, 0, 10, 9], [8, 2, 0, 7], [10, 0, 6, 9], [6, 9, 5, 7], [0, 6, 9, 4], [5, 9, 5, 1], [2, 6, 6, 1]]"
   ]
  },
  {
   "cell_type": "code",
   "execution_count": 23,
   "metadata": {},
   "outputs": [
    {
     "name": "stdout",
     "output_type": "stream",
     "text": [
      "Price: [24.25, 10.5, 12.5, 30.0, 16.25, 24.75, 25.0]\n",
      "Requirement: [80, 18, 24, 60]\n",
      "Nutrient Quantities in the Vegetables (Row-wise):\n",
      "[[10, 0, 10, 9], [8, 2, 0, 7], [10, 0, 6, 9], [6, 9, 5, 7], [0, 6, 9, 4], [5, 9, 5, 1], [2, 6, 6, 1]]\n"
     ]
    }
   ],
   "source": [
    "print('Price:',price)\n",
    "print('Requirement:',requirement)\n",
    "print('Nutrient Quantities in the Vegetables (Row-wise):')\n",
    "print(nutrient_qty)"
   ]
  },
  {
   "cell_type": "code",
   "execution_count": 24,
   "metadata": {},
   "outputs": [],
   "source": [
    "import time\n",
    "start_time = time.time()"
   ]
  },
  {
   "cell_type": "code",
   "execution_count": 25,
   "metadata": {},
   "outputs": [],
   "source": [
    "price_table = {}\n",
    "basket = {}\n",
    "base = ''\n",
    "base_list = []\n",
    "for i in range(m):\n",
    "    base = base + '0 '\n",
    "for i in range(n):\n",
    "    base_list.append(0)\n",
    "price_table[base] = 0\n",
    "basket[base] = base_list"
   ]
  },
  {
   "cell_type": "code",
   "execution_count": 26,
   "metadata": {},
   "outputs": [],
   "source": [
    "def find_min_price(requirement, nutrient_qty, price, price_table):\n",
    "    key = ''\n",
    "    for i in range(len(requirement)):\n",
    "        key = key + str(requirement[i]) + ' '\n",
    "    if key in price_table:\n",
    "        return price_table[key], basket[key]\n",
    "    min_price = 10000000000\n",
    "    choice = []\n",
    "    for i in range(len(price)):\n",
    "        choice.append(0)\n",
    "    for veg in range(len(price)):\n",
    "        rem_requirement = []\n",
    "        for i in range(len(requirement)):\n",
    "            rem_requirement.append(max(requirement[i] - nutrient_qty[veg][i], 0))\n",
    "        if rem_requirement == requirement:\n",
    "            continue\n",
    "        new_price, qty = find_min_price(rem_requirement, nutrient_qty, price, price_table)\n",
    "        new_price = new_price + price[veg]\n",
    "        if new_price < min_price:\n",
    "            min_price = new_price\n",
    "            choice = list(qty)\n",
    "            choice[veg] = choice[veg] + 1\n",
    "    price_table[key] = min_price\n",
    "    basket[key] = choice\n",
    "    return min_price, choice"
   ]
  },
  {
   "cell_type": "code",
   "execution_count": 27,
   "metadata": {},
   "outputs": [],
   "source": [
    "best_price, choice = find_min_price(requirement, nutrient_qty, price, price_table)"
   ]
  },
  {
   "cell_type": "code",
   "execution_count": 28,
   "metadata": {},
   "outputs": [
    {
     "name": "stdout",
     "output_type": "stream",
     "text": [
      "Quantity of vegetable Bottle-gourd : 0 , Price per kg: 24.25\n",
      "Quantity of vegetable Cabbage : 6 , Price per kg: 10.5\n",
      "Quantity of vegetable Carrot : 3 , Price per kg: 12.5\n",
      "Quantity of vegetable Cauliflower : 0 , Price per kg: 30.0\n",
      "Quantity of vegetable Onion : 0 , Price per kg: 16.25\n",
      "Quantity of vegetable Tomato : 0 , Price per kg: 24.75\n",
      "Quantity of vegetable Potato : 1 , Price per kg: 25.0\n",
      "Total Price of chosen vegetables: 125.5\n",
      "Time Taken by Algorithm: 0.3021879196166992 seconds\n"
     ]
    }
   ],
   "source": [
    "for veg in range(n):\n",
    "    print('Quantity of vegetable', vegetables[veg], ':', choice[veg], ', Price per kg:', price[veg])\n",
    "print('Total Price of chosen vegetables:', best_price)\n",
    "print('Time Taken by Algorithm:', (time.time()-start_time), 'seconds')"
   ]
  }
 ],
 "metadata": {
  "kernelspec": {
   "display_name": "Python 3",
   "language": "python",
   "name": "python3"
  },
  "language_info": {
   "codemirror_mode": {
    "name": "ipython",
    "version": 3
   },
   "file_extension": ".py",
   "mimetype": "text/x-python",
   "name": "python",
   "nbconvert_exporter": "python",
   "pygments_lexer": "ipython3",
   "version": "3.9.0"
  }
 },
 "nbformat": 4,
 "nbformat_minor": 4
}
