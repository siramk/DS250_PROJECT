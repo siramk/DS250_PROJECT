{
 "cells": [
  {
   "cell_type": "code",
   "execution_count": 6,
   "metadata": {},
   "outputs": [],
   "source": [
    "import pandas as pd\n",
    "VEGETABLES = [ 'carrot', 'tomato', 'bottle_gourd', 'potato', 'cabbage', 'cauliflower']\n",
    "for VEGETABLE in VEGETABLES:\n",
    "        df1 = pd.read_csv(\"./../data/\"+VEGETABLE+\"_processed.csv\")\n",
    "        df2 = pd.read_csv(\"./../data/\"+VEGETABLE+\"_NO_OUTLIERS.csv\")\n",
    "        df2 = df2.drop(['Unnamed: 0'], axis=1)\n",
    "        df1 = df1[:3896]\n",
    "        df2 = df2[:3896]\n",
    "        df1.to_csv(\"./../data/\"+VEGETABLE+\"_processed.csv\")\n",
    "        df2.to_csv(\"./../data/\"+VEGETABLE+\"_NO_OUTLIERS.csv\")"
   ]
  },
  {
   "cell_type": "code",
   "execution_count": 8,
   "metadata": {},
   "outputs": [
    {
     "name": "stdout",
     "output_type": "stream",
     "text": [
      "3896 3896\n",
      "   Unnamed: 0        DATE  MODAL\n",
      "0           0  2010-01-01  750.0\n",
      "1           1  2010-01-02  750.0\n",
      "2           2  2010-01-03  900.0\n",
      "3           3  2010-01-04  800.0\n",
      "4           4  2010-01-05  850.0\n",
      "3896 3896\n",
      "   Unnamed: 0        DATE  MODAL\n",
      "0           0  2010-01-01  650.0\n",
      "1           1  2010-01-02  650.0\n",
      "2           2  2010-01-03  825.0\n",
      "3           3  2010-01-04  850.0\n",
      "4           4  2010-01-05  700.0\n",
      "3896 3896\n",
      "   Unnamed: 0        DATE   MODAL\n",
      "0           0  2010-01-01  1000.0\n",
      "1           1  2010-01-02  1000.0\n",
      "2           2  2010-01-03   987.5\n",
      "3           3  2010-01-04  1037.5\n",
      "4           4  2010-01-05  1025.0\n",
      "3896 3896\n",
      "   Unnamed: 0        DATE  MODAL\n",
      "0           0  2010-01-01  912.0\n",
      "1           1  2010-01-02  912.0\n",
      "2           2  2010-01-03  893.5\n",
      "3           3  2010-01-04  750.0\n",
      "4           4  2010-01-05  825.0\n",
      "3896 3896\n",
      "   Unnamed: 0        DATE  MODAL\n",
      "0           0  2010-01-01  400.0\n",
      "1           1  2010-01-02  400.0\n",
      "2           2  2010-01-03  475.0\n",
      "3           3  2010-01-04  500.0\n",
      "4           4  2010-01-05  475.0\n",
      "3896 3896\n",
      "   Unnamed: 0        DATE     MODAL\n",
      "0           0  2010-01-01  1625.000\n",
      "1           1  2010-01-02  1625.000\n",
      "2           2  2010-01-03  1462.500\n",
      "3           3  2010-01-04  1500.000\n",
      "4           4  2010-01-05  1503.125\n"
     ]
    }
   ],
   "source": [
    "VEGETABLES = [ 'carrot', 'tomato', 'bottle_gourd', 'potato', 'cabbage', 'cauliflower']\n",
    "for VEGETABLE in VEGETABLES:\n",
    "        df1 = pd.read_csv(\"./../data/\"+VEGETABLE+\"_processed.csv\")\n",
    "        df2 = pd.read_csv(\"./../data/\"+VEGETABLE+\"_NO_OUTLIERS.csv\")\n",
    "        print(len(df1), len(df2))\n",
    "        print(df2.head())"
   ]
  },
  {
   "cell_type": "code",
   "execution_count": 5,
   "metadata": {},
   "outputs": [
    {
     "data": {
      "text/html": [
       "<div>\n",
       "<style scoped>\n",
       "    .dataframe tbody tr th:only-of-type {\n",
       "        vertical-align: middle;\n",
       "    }\n",
       "\n",
       "    .dataframe tbody tr th {\n",
       "        vertical-align: top;\n",
       "    }\n",
       "\n",
       "    .dataframe thead th {\n",
       "        text-align: right;\n",
       "    }\n",
       "</style>\n",
       "<table border=\"1\" class=\"dataframe\">\n",
       "  <thead>\n",
       "    <tr style=\"text-align: right;\">\n",
       "      <th></th>\n",
       "      <th>DATE</th>\n",
       "      <th>MODAL</th>\n",
       "    </tr>\n",
       "  </thead>\n",
       "  <tbody>\n",
       "    <tr>\n",
       "      <th>0</th>\n",
       "      <td>2010-01-01</td>\n",
       "      <td>1625.000</td>\n",
       "    </tr>\n",
       "    <tr>\n",
       "      <th>1</th>\n",
       "      <td>2010-01-02</td>\n",
       "      <td>1625.000</td>\n",
       "    </tr>\n",
       "    <tr>\n",
       "      <th>2</th>\n",
       "      <td>2010-01-03</td>\n",
       "      <td>1462.500</td>\n",
       "    </tr>\n",
       "    <tr>\n",
       "      <th>3</th>\n",
       "      <td>2010-01-04</td>\n",
       "      <td>1500.000</td>\n",
       "    </tr>\n",
       "    <tr>\n",
       "      <th>4</th>\n",
       "      <td>2010-01-05</td>\n",
       "      <td>1503.125</td>\n",
       "    </tr>\n",
       "  </tbody>\n",
       "</table>\n",
       "</div>"
      ],
      "text/plain": [
       "         DATE     MODAL\n",
       "0  2010-01-01  1625.000\n",
       "1  2010-01-02  1625.000\n",
       "2  2010-01-03  1462.500\n",
       "3  2010-01-04  1500.000\n",
       "4  2010-01-05  1503.125"
      ]
     },
     "execution_count": 5,
     "metadata": {},
     "output_type": "execute_result"
    }
   ],
   "source": [
    "df2.head()"
   ]
  }
 ],
 "metadata": {
  "kernelspec": {
   "display_name": "Python 3",
   "language": "python",
   "name": "python3"
  },
  "language_info": {
   "codemirror_mode": {
    "name": "ipython",
    "version": 3
   },
   "file_extension": ".py",
   "mimetype": "text/x-python",
   "name": "python",
   "nbconvert_exporter": "python",
   "pygments_lexer": "ipython3",
   "version": "3.7.3"
  }
 },
 "nbformat": 4,
 "nbformat_minor": 2
}
